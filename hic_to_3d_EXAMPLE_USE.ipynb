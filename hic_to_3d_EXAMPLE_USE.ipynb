{
 "cells": [
  {
   "cell_type": "code",
   "execution_count": 1,
   "id": "a8672c1d",
   "metadata": {},
   "outputs": [],
   "source": [
    "from hic_to_3d import optimize, amplify\n",
    "from extract_hic import extract_hic2\n",
    "from points_io import point_reader, save_points_as_pdb"
   ]
  },
  {
   "cell_type": "code",
   "execution_count": 2,
   "id": "98512551",
   "metadata": {},
   "outputs": [],
   "source": [
    "path = \"./example_data/moth_fly\"\n",
    "diff, n, hic = extract_hic2(path)"
   ]
  },
  {
   "cell_type": "code",
   "execution_count": 3,
   "id": "635f92a3",
   "metadata": {},
   "outputs": [
    {
     "name": "stderr",
     "output_type": "stream",
     "text": [
      "/home/kbanecki/.local/lib/python3.8/site-packages/sklearn/manifold/_mds.py:517: UserWarning: The MDS API has changed. ``fit`` now constructs an dissimilarity matrix from data. To use a custom dissimilarity matrix, set ``dissimilarity='precomputed'``.\n",
      "  warnings.warn(\n",
      "100%|██████████████████████████████| 100/100 [23:16<00:00, 13.97s/it]\n"
     ]
    },
    {
     "name": "stdout",
     "output_type": "stream",
     "text": [
      "saving...\n",
      "Saved\n",
      "Final MSE: 0.0679\n",
      "Final Correlation: 0.8608\n"
     ]
    }
   ],
   "source": [
    "traj, mse, corr = optimize(orig_hic=hic,\n",
    "          lr=0.1, iterations=100, delta=0.001, fps=10, margin=0, \n",
    "          elev=10, azim=50, elev2=30, azim2=50, corr_thresh=0.999,\n",
    "          gif_path=\"example_data/test00.gif\")"
   ]
  },
  {
   "cell_type": "code",
   "execution_count": 4,
   "id": "98825fda",
   "metadata": {},
   "outputs": [
    {
     "name": "stdout",
     "output_type": "stream",
     "text": [
      "File example_data/test00.pdb saved...\n"
     ]
    }
   ],
   "source": [
    "save_points_as_pdb(amplify(traj[-1],10), \n",
    "                   \"example_data/test00.pdb\", \n",
    "                   render_connect=True)"
   ]
  },
  {
   "cell_type": "code",
   "execution_count": null,
   "id": "df175829",
   "metadata": {},
   "outputs": [],
   "source": []
  },
  {
   "cell_type": "code",
   "execution_count": null,
   "id": "eaa25ddf",
   "metadata": {},
   "outputs": [],
   "source": []
  }
 ],
 "metadata": {
  "kernelspec": {
   "display_name": "Python 3 (ipykernel)",
   "language": "python",
   "name": "python3"
  },
  "language_info": {
   "codemirror_mode": {
    "name": "ipython",
    "version": 3
   },
   "file_extension": ".py",
   "mimetype": "text/x-python",
   "name": "python",
   "nbconvert_exporter": "python",
   "pygments_lexer": "ipython3",
   "version": "3.8.10"
  }
 },
 "nbformat": 4,
 "nbformat_minor": 5
}
